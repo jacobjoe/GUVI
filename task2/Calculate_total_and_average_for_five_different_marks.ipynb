{
 "cells": [
  {
   "cell_type": "markdown",
   "metadata": {},
   "source": [
    "26th Sep 2021"
   ]
  },
  {
   "cell_type": "markdown",
   "metadata": {},
   "source": [
    "## Calculate Total, Average and Store them"
   ]
  },
  {
   "cell_type": "markdown",
   "metadata": {},
   "source": [
    "1 get input from user student name and 5 differnt marks<br>2 calculate total and avg\n",
    "<br>3 store name, 5 marks, total and avg to a table\n"
   ]
  },
  {
   "cell_type": "code",
   "execution_count": 4,
   "metadata": {},
   "outputs": [
    {
     "name": "stdin",
     "output_type": "stream",
     "text": [
      "Please enter your name jo\n"
     ]
    },
    {
     "name": "stdout",
     "output_type": "stream",
     "text": [
      "Hi! Jo Please enter your five different mark details one by one\n",
      "please enter your mark  1\n"
     ]
    },
    {
     "name": "stdin",
     "output_type": "stream",
     "text": [
      " 5\n"
     ]
    },
    {
     "name": "stdout",
     "output_type": "stream",
     "text": [
      "please enter your mark  2\n"
     ]
    },
    {
     "name": "stdin",
     "output_type": "stream",
     "text": [
      " 6\n"
     ]
    },
    {
     "name": "stdout",
     "output_type": "stream",
     "text": [
      "please enter your mark  3\n"
     ]
    },
    {
     "name": "stdin",
     "output_type": "stream",
     "text": [
      " 7\n"
     ]
    },
    {
     "name": "stdout",
     "output_type": "stream",
     "text": [
      "please enter your mark  4\n"
     ]
    },
    {
     "name": "stdin",
     "output_type": "stream",
     "text": [
      " 8\n"
     ]
    },
    {
     "name": "stdout",
     "output_type": "stream",
     "text": [
      "please enter your mark  5\n"
     ]
    },
    {
     "name": "stdin",
     "output_type": "stream",
     "text": [
      " 9\n"
     ]
    },
    {
     "name": "stdout",
     "output_type": "stream",
     "text": [
      "  Name          Marks  Total  Average\n",
      "0   Jo  5, 6, 7, 8, 9     35      7.0\n"
     ]
    }
   ],
   "source": [
    "# import library\n",
    "import numpy as np\n",
    "import pandas as pd\n",
    "\n",
    "#get input from user\n",
    "name = input('Please enter your name')\n",
    "name = name.capitalize()\n",
    "print('Hi!', name, 'Please enter your five different mark details one by one')\n",
    "\n",
    "# list to save user marks\n",
    "ls = []\n",
    "\n",
    "# for loop to get input marks from user\n",
    "for i in range(1, 6):\n",
    "    print('please enter your mark ', i)\n",
    "    mark = int(input())\n",
    "    ls.append(mark)\n",
    "    \n",
    "tot = np.sum(ls)\n",
    "\n",
    "avg = np.mean(ls)\n",
    "\n",
    "str_ls = str(ls)\n",
    "str_ls = str_ls[1:-1]\n",
    "\n",
    "# create dataframe with user details\n",
    "df = pd.DataFrame({'Name':[name], 'Marks':[str_ls], 'Total':[tot], 'Average':[avg]})\n",
    "# save file\n",
    "df.to_csv('user_marks_total.csv', index= False)\n",
    "\n",
    "print(df)"
   ]
  }
 ],
 "metadata": {
  "kernelspec": {
   "display_name": "Python 3",
   "language": "python",
   "name": "python3"
  },
  "language_info": {
   "codemirror_mode": {
    "name": "ipython",
    "version": 3
   },
   "file_extension": ".py",
   "mimetype": "text/x-python",
   "name": "python",
   "nbconvert_exporter": "python",
   "pygments_lexer": "ipython3",
   "version": "3.8.5"
  }
 },
 "nbformat": 4,
 "nbformat_minor": 4
}
